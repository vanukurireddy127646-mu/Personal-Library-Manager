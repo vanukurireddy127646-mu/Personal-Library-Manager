{
 "cells": [
  {
   "cell_type": "code",
   "execution_count": 6,
   "id": "bebc8691-41d5-4ffd-b2d4-f96191e66ca9",
   "metadata": {},
   "outputs": [
    {
     "name": "stdout",
     "output_type": "stream",
     "text": [
      "0\n",
      "An algorithm is a f\n",
      "19\n",
      "An algorithm is a finite set of well-defined, step-by-step instructions that solve a problem or perform a computation.\n"
     ]
    }
   ],
   "source": [
    "f=open(\"pppp.txt\",\"r\")\n",
    "print(f.tell())            # 0  at start\n",
    "print(f.read(19))\n",
    "print(f.tell())\n",
    "f.seek(0)  # it will start from the that position\n",
    "print(f.read())    \n",
    "f.close()"
   ]
  },
  {
   "cell_type": "code",
   "execution_count": 7,
   "id": "cf8a6748-1f43-4d3d-a778-8e29e6d5cf8e",
   "metadata": {},
   "outputs": [
    {
     "name": "stdout",
     "output_type": "stream",
     "text": [
      "python\n"
     ]
    }
   ],
   "source": [
    "a=\" python \"\n",
    "print(a.strip())"
   ]
  },
  {
   "cell_type": "code",
   "execution_count": 8,
   "id": "a1992504-3e3b-45e9-9f6d-6b517c5b1796",
   "metadata": {},
   "outputs": [
    {
     "name": "stdout",
     "output_type": "stream",
     "text": [
      "     python \n"
     ]
    }
   ],
   "source": [
    "a=\"     python \"\n",
    "print(a)"
   ]
  },
  {
   "cell_type": "code",
   "execution_count": 11,
   "id": "19589976-0fac-4da3-b080-9dcae7a093e9",
   "metadata": {},
   "outputs": [
    {
     "name": "stdout",
     "output_type": "stream",
     "text": [
      " python\n"
     ]
    }
   ],
   "source": [
    "a=\"!!! python!!!\"\n",
    "print(a.strip(\"!\"))"
   ]
  },
  {
   "cell_type": "markdown",
   "id": "503ddd86-ce76-43e0-af21-abecb358cc7e",
   "metadata": {},
   "source": [
    "# F-String"
   ]
  },
  {
   "cell_type": "code",
   "execution_count": 12,
   "id": "8896db02-566b-421b-a291-1bcdae8a6e12",
   "metadata": {},
   "outputs": [
    {
     "name": "stdout",
     "output_type": "stream",
     "text": [
      "Hello\n"
     ]
    }
   ],
   "source": [
    "print(\"Hello\")"
   ]
  },
  {
   "cell_type": "code",
   "execution_count": 16,
   "id": "a1e6c862-32ae-4b04-9bd4-5cac24ed5f68",
   "metadata": {},
   "outputs": [
    {
     "name": "stdout",
     "output_type": "stream",
     "text": [
      "hello kishore\n"
     ]
    }
   ],
   "source": [
    "name=\"kishore\"\n",
    "print(\"hello \" + name)"
   ]
  },
  {
   "cell_type": "code",
   "execution_count": 19,
   "id": "526bd4d2-a669-406c-80c5-2f046a54a7f0",
   "metadata": {},
   "outputs": [
    {
     "name": "stdout",
     "output_type": "stream",
     "text": [
      "hello kishore\n"
     ]
    }
   ],
   "source": [
    "name=\"kishore\"\n",
    "print(\"hello\",name)"
   ]
  },
  {
   "cell_type": "code",
   "execution_count": 17,
   "id": "378da9c9-d250-4771-8d6e-3aa1d0594116",
   "metadata": {},
   "outputs": [
    {
     "name": "stdout",
     "output_type": "stream",
     "text": [
      "hello kishore\n"
     ]
    }
   ],
   "source": [
    "print(f\"hello {name}\")"
   ]
  },
  {
   "cell_type": "code",
   "execution_count": 35,
   "id": "6766599c-0080-4f46-9198-c4ad26c4cca8",
   "metadata": {},
   "outputs": [
    {
     "name": "stdout",
     "output_type": "stream",
     "text": [
      "1 Book A\n",
      "2 Book B\n",
      "3 Book C\n",
      "4 Book D\n"
     ]
    }
   ],
   "source": [
    "book=[\"Book A\",\"Book B\",\"Book C\",\"Book D\"]\n",
    "for idx,book in enumerate(book,start=1):\n",
    "    print(idx,book)\n"
   ]
  },
  {
   "cell_type": "markdown",
   "id": "3073d14b-687c-4fb2-8377-eee355393472",
   "metadata": {},
   "source": [
    "# MAP"
   ]
  },
  {
   "cell_type": "code",
   "execution_count": 24,
   "id": "b9f74216-43b3-406a-bd42-7b2ecdab4f0e",
   "metadata": {},
   "outputs": [
    {
     "name": "stdout",
     "output_type": "stream",
     "text": [
      "[1, 4, 9, 16, 25]\n"
     ]
    }
   ],
   "source": [
    "num=[1,2,3,4,5]\n",
    "result=map(lambda x:x**2,num)\n",
    "print(list(result))"
   ]
  },
  {
   "cell_type": "code",
   "execution_count": 25,
   "id": "86cc1c77-70ec-4852-88df-10d9e2070a94",
   "metadata": {},
   "outputs": [
    {
     "name": "stdout",
     "output_type": "stream",
     "text": [
      "['CAT', 'DOG', 'RAT']\n"
     ]
    }
   ],
   "source": [
    "words=[\"cat\",\"dog\",\"rat\"]\n",
    "upper=map(str.upper,words)\n",
    "print(list(upper))"
   ]
  },
  {
   "cell_type": "code",
   "execution_count": 26,
   "id": "b7ff1b75-11c8-454e-9254-0401be52ff20",
   "metadata": {},
   "outputs": [
    {
     "name": "stdout",
     "output_type": "stream",
     "text": [
      "[6, 8, 10, 12]\n"
     ]
    }
   ],
   "source": [
    "a=[1,2,3,4]\n",
    "b=[5,6,7,8]\n",
    "result=list(map(lambda x,y:x+y,a,b))\n",
    "print(result)"
   ]
  },
  {
   "cell_type": "markdown",
   "id": "1a0d3e98-f734-4396-86f7-0bc11be3cb17",
   "metadata": {},
   "source": [
    "# FILTER()"
   ]
  },
  {
   "cell_type": "code",
   "execution_count": 30,
   "id": "4b3ffad4-07f6-40be-a07e-38bcaf3f31ff",
   "metadata": {},
   "outputs": [
    {
     "name": "stdout",
     "output_type": "stream",
     "text": [
      "[1, 3, 5, 7, 9]\n"
     ]
    }
   ],
   "source": [
    "NUM=[1,2,3,4,5,6,7,8,9,10]\n",
    "result=filter(lambda x:x%2==0,NUM)\n",
    "print(list(result))"
   ]
  },
  {
   "cell_type": "code",
   "execution_count": 31,
   "id": "7f315521-2893-493c-b169-9fd9bbff5505",
   "metadata": {},
   "outputs": [
    {
     "name": "stdout",
     "output_type": "stream",
     "text": [
      "['lion', 'tiger']\n"
     ]
    }
   ],
   "source": [
    "words=[\"cat\",\"lion\",\"dog\",\"tiger\"]\n",
    "res=filter(lambda w:len(w)>3,words)\n",
    "print(list(res))"
   ]
  },
  {
   "cell_type": "markdown",
   "id": "595eb78b-55f2-4f3f-b754-7ed704446c8c",
   "metadata": {},
   "source": [
    "# Project"
   ]
  },
  {
   "cell_type": "code",
   "execution_count": 18,
   "id": "342cc431-31dd-4b29-885a-36b59a3cf2ed",
   "metadata": {},
   "outputs": [],
   "source": [
    "import os"
   ]
  },
  {
   "cell_type": "code",
   "execution_count": 19,
   "id": "0d72c0f3-8942-40b5-851d-251eb24232b6",
   "metadata": {},
   "outputs": [],
   "source": [
    "def add_book(title, author, genre, year, status=\"unread\"):\n",
    "    book = {\n",
    "        \"title\": title.strip(),\n",
    "        \"author\": author.strip(),\n",
    "        \"genre\": genre.strip(),\n",
    "        \"year\": int(year),\n",
    "        \"status\": status.lower()\n",
    "    }\n",
    "    library.append(book)\n",
    "    print(f\"Book '{title}' added.\")"
   ]
  },
  {
   "cell_type": "code",
   "execution_count": 20,
   "id": "873d6735-18ef-4527-a754-cd29bc7b9efa",
   "metadata": {},
   "outputs": [],
   "source": [
    "def add_book(title, author, genre, year, status=\"unread\"):\n",
    "    book = {\n",
    "        \"title\": title.strip(),\n",
    "        \"author\": author.strip(),\n",
    "        \"genre\": genre.strip(),\n",
    "        \"year\": int(year),\n",
    "        \"status\": status.lower()\n",
    "    }\n",
    "    library.append(book)\n",
    "    print(f\"Book '{title}' added.\")"
   ]
  },
  {
   "cell_type": "code",
   "execution_count": 21,
   "id": "777599dc-ccd3-4f87-a04a-cfc938919757",
   "metadata": {},
   "outputs": [],
   "source": [
    "def list_books(sorted_by_year=False):\n",
    "    if not library:\n",
    "        print(\"library is empty.\")\n",
    "        return\n",
    "    books=sorted(library,key=lambda x:x['year']) if sorted_by_year else library\n",
    "    for idx,book in enumerate(books,start=1):\n",
    "        print(f\"{idx}.{book['title']} by {book['author']} [{book['genre']},{book['year']}]-{book['status'].capitalize()}\")"
   ]
  },
  {
   "cell_type": "code",
   "execution_count": 22,
   "id": "d4cd3892-d6db-488d-8b2b-d553e7047e4c",
   "metadata": {},
   "outputs": [],
   "source": [
    "def search_by_book(author_name):\n",
    "    return[book for book in library if author_name.lower() in book['author'].lower()]"
   ]
  },
  {
   "cell_type": "code",
   "execution_count": 23,
   "id": "bc71d7a6-e758-41a6-92ac-c2c45bef6a69",
   "metadata": {},
   "outputs": [],
   "source": [
    "def delete_book(title):\n",
    "    global library\n",
    "    library=filter(lambda book:book['title'].lower()!=title.lower(),library)\n",
    "    print(f\"Book titled '{title}' has been removed if it existed.\")"
   ]
  },
  {
   "cell_type": "code",
   "execution_count": 24,
   "id": "75c0e710-2be7-41d2-90d8-593187b9b316",
   "metadata": {},
   "outputs": [],
   "source": [
    "def show_reading_summary():\n",
    "    if not library:\n",
    "        print(\"no books in library\")\n",
    "        return\n",
    "    read=len(list(filter(lambda x:x['status']=='read',library)))\n",
    "    unread=len(library)-read\n",
    "    print(f\"{read} books({(read/len(library))*100:.2f}%)\")\n",
    "    print(f\"unread: {unread} books ({(unread/len(library))*100:.2f}%)\")"
   ]
  },
  {
   "cell_type": "code",
   "execution_count": 25,
   "id": "23aea26c-cb6e-4974-85f7-09db870d6566",
   "metadata": {},
   "outputs": [],
   "source": [
    "def upper_titles():\n",
    "    titles=list(map(lambda b:b['title'].upper(),library))\n",
    "    print(\"Book Titles (UPPERCASE):\")\n",
    "    for title in titles:\n",
    "        print(\"-\",title)"
   ]
  },
  {
   "cell_type": "code",
   "execution_count": 26,
   "id": "6fbef42f-f25f-4f81-ab29-92fee2936836",
   "metadata": {},
   "outputs": [],
   "source": [
    "def save_to_file(filename):\n",
    "    try:\n",
    "        with open(filename,'w') as f:\n",
    "            for book in library:\n",
    "                line=f\"{book['title']},{book['author']},{book['genre']},{book['year']},{book['stautus']}\"\n",
    "                f.write(line)\n",
    "        print(f\"saved{len(library)} books to {filename}\")\n",
    "    except Exception as e:\n",
    "        print(\"Error saving file:\",e)"
   ]
  },
  {
   "cell_type": "code",
   "execution_count": 27,
   "id": "cbb912cb-9a96-4f2b-84be-95b479f90edc",
   "metadata": {},
   "outputs": [],
   "source": [
    "def load_from_file(filename):\n",
    "    if not os.path.exists(filename):\n",
    "        print(\"File not found.Starting with an empty library.\")\n",
    "        return\n",
    "    try:\n",
    "        with open(filename,'r') as f:\n",
    "            for line in f:\n",
    "                title,author,gerne,year,status= line.strip().split(\",\")\n",
    "                add_book(title,author,gerne,int(year),status)\n",
    "    except Expection as e:\n",
    "        print(\"Error reading file:\",e)"
   ]
  },
  {
   "cell_type": "code",
   "execution_count": 28,
   "id": "27808f92-e4a4-4891-ab84-0297b6619a97",
   "metadata": {},
   "outputs": [],
   "source": [
    "def menu():\n",
    "    while True:\n",
    "        print(\"\\n--- Library Menu ---\")\n",
    "        print(\"1. Add Book\")\n",
    "        print(\"2. List Books\")\n",
    "        print(\"3. List Books (Sorted by Year)\")\n",
    "        print(\"4. Search by Author\")\n",
    "        print(\"5. Delete Book\")\n",
    "        print(\"6. Reading Summary\")\n",
    "        print(\"7. Show Uppercase Titles\")\n",
    "        print(\"8. Save to File\")\n",
    "        print(\"9. Load from File\")\n",
    "        print(\"0. Exit\")\n",
    "\n",
    "        choice = input(\"Enter choice: \")\n",
    "\n",
    "        if choice == \"1\":\n",
    "            title = input(\"Enter title: \")\n",
    "            author = input(\"Enter author: \")\n",
    "            genre = input(\"Enter genre: \")\n",
    "            year = input(\"Enter year: \")\n",
    "            status = input(\"Enter status (read/unread): \") or \"unread\"\n",
    "            add_book(title, author, genre, year, status)\n",
    "\n",
    "        elif choice == \"2\":\n",
    "            list_books()\n",
    "\n",
    "        elif choice == \"3\":\n",
    "            list_books(sorted_by_year=True)\n",
    "\n",
    "        elif choice == \"4\":\n",
    "            name = input(\"Enter author name: \")\n",
    "            search_by_author(name)\n",
    "\n",
    "        elif choice == \"5\":\n",
    "            title = input(\"Enter book title to delete: \")\n",
    "            delete_book(title)\n",
    "\n",
    "        elif choice == \"6\":\n",
    "            show_reading_summary()\n",
    "\n",
    "        elif choice == \"7\":\n",
    "            upper_titles()\n",
    "\n",
    "        elif choice == \"8\":\n",
    "            filename = input(\"Enter filename to save: \")\n",
    "            save_to_file(filename)\n",
    "\n",
    "        elif choice == \"9\":\n",
    "            filename = input(\"Enter filename to load: \")\n",
    "            load_from_file(filename)\n",
    "\n",
    "        elif choice == \"0\":\n",
    "            print(\"Goodbye!\")\n",
    "            break\n",
    "\n",
    "        else:\n",
    "            print(\"Invalid choice. Try again.\")"
   ]
  },
  {
   "cell_type": "code",
   "execution_count": null,
   "id": "9bdf7391-2e1d-4669-b2b3-addcb48b24e3",
   "metadata": {},
   "outputs": [
    {
     "name": "stdout",
     "output_type": "stream",
     "text": [
      "\n",
      "--- Library Menu ---\n",
      "1. Add Book\n",
      "2. List Books\n",
      "3. List Books (Sorted by Year)\n",
      "4. Search by Author\n",
      "5. Delete Book\n",
      "6. Reading Summary\n",
      "7. Show Uppercase Titles\n",
      "8. Save to File\n",
      "9. Load from File\n",
      "0. Exit\n"
     ]
    },
    {
     "name": "stdin",
     "output_type": "stream",
     "text": [
      "Enter choice:  1\n",
      "Enter title:  python\n",
      "Enter author:  abc\n",
      "Enter genre:  12\n",
      "Enter year:  2003\n",
      "Enter status (read/unread):  read\n"
     ]
    },
    {
     "name": "stdout",
     "output_type": "stream",
     "text": [
      "Book 'python' added.\n",
      "\n",
      "--- Library Menu ---\n",
      "1. Add Book\n",
      "2. List Books\n",
      "3. List Books (Sorted by Year)\n",
      "4. Search by Author\n",
      "5. Delete Book\n",
      "6. Reading Summary\n",
      "7. Show Uppercase Titles\n",
      "8. Save to File\n",
      "9. Load from File\n",
      "0. Exit\n"
     ]
    }
   ],
   "source": [
    "\n",
    "    if __name__ == \"__main__\":\n",
    "        menu()"
   ]
  },
  {
   "cell_type": "code",
   "execution_count": null,
   "id": "0218aaec-f450-4c7d-90ad-e5c9703c268a",
   "metadata": {},
   "outputs": [],
   "source": []
  }
 ],
 "metadata": {
  "kernelspec": {
   "display_name": "Python 3 (ipykernel)",
   "language": "python",
   "name": "python3"
  },
  "language_info": {
   "codemirror_mode": {
    "name": "ipython",
    "version": 3
   },
   "file_extension": ".py",
   "mimetype": "text/x-python",
   "name": "python",
   "nbconvert_exporter": "python",
   "pygments_lexer": "ipython3",
   "version": "3.13.5"
  }
 },
 "nbformat": 4,
 "nbformat_minor": 5
}
